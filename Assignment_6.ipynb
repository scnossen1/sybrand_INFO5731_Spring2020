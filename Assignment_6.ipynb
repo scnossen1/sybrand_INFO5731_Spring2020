{
  "nbformat": 4,
  "nbformat_minor": 0,
  "metadata": {
    "colab": {
      "name": "Assignment_6.ipynb",
      "provenance": [],
      "authorship_tag": "ABX9TyP6uNaNosaELuI3d3QiBb5W",
      "include_colab_link": true
    },
    "kernelspec": {
      "name": "python3",
      "display_name": "Python 3"
    }
  },
  "cells": [
    {
      "cell_type": "markdown",
      "metadata": {
        "id": "view-in-github",
        "colab_type": "text"
      },
      "source": [
        "<a href=\"https://colab.research.google.com/github/scnossen1/sybrand_INFO5731_Spring2020/blob/master/Assignment_6.ipynb\" target=\"_parent\"><img src=\"https://colab.research.google.com/assets/colab-badge.svg\" alt=\"Open In Colab\"/></a>"
      ]
    },
    {
      "cell_type": "code",
      "metadata": {
        "id": "Kmm9dQQsaxQ-",
        "colab_type": "code",
        "colab": {
          "base_uri": "https://localhost:8080/",
          "height": 204
        },
        "outputId": "f1e2cd07-ffc8-41d1-b8ce-8de79dae562b"
      },
      "source": [
        "import numpy as np\n",
        "import random\n",
        "\n",
        "def fill_text():\n",
        "    myfile2 = open('mytxt2.txt', 'r+')\n",
        "    numbers = '12,895,37,100,99,234,31,567,5,759'\n",
        "    myfile2.write(numbers)\n",
        "    myfile2.close()\n",
        "\n",
        "\n",
        "def mk_array():\n",
        "\n",
        "    myfile2 = open('mytxt2.txt', 'r+')\n",
        "    file_content = myfile2.readline()\n",
        "    new_list = file_content.split(',')\n",
        "    final_list = np.array([0, 0, 0, 0, 0, 0, 0, 0, 0, 0])\n",
        "\n",
        "    for i in range(len(new_list)):\n",
        "        final_list[i] = new_list[i]\n",
        "\n",
        "    cutoff = 100\n",
        "    final_list[final_list>cutoff] = 100\n",
        "\n",
        "    str1 = ','.join(str(e) for e in final_list)\n",
        "\n",
        "    myfile = open('mytxt.txt', 'r+')\n",
        "    myfile.write(str1)\n",
        "    myfile.close()\n",
        "\n",
        "\n",
        "\n",
        "\n",
        "\n",
        "def send_array(list):\n",
        "    myfile = open('mytxt.txt', 'r+')\n",
        "    myfile.writelines(list)\n",
        "    myfile.close()\n",
        "\n",
        "\n",
        "fill_text()\n",
        "mk_array()\n",
        "\n",
        "\n",
        "\n",
        "\n",
        "\n",
        "\n",
        "\n",
        "student_list = [\n",
        "    ('John', ['4444']),\n",
        "    ('Fred', ['5555']),\n",
        "    ('Bret', ['6666']),\n",
        "    ('Bent', ['7777']),\n",
        "    ('Tent', ['1111']),\n",
        "    ('Brek', ['2222']),\n",
        "    ('Fret', ['3333']),\n",
        "    ('Hess', ['8888']),\n",
        "    ('Boby', ['9999']),\n",
        "    ('Toby', ['0000'])\n",
        "                ]\n",
        "\n",
        "\n",
        "def wr_students():\n",
        "        myfile3 = open('mytxt3.txt', 'r+')\n",
        "        for i in range(len(student_list)):\n",
        "            myfile3.writelines(str(student_list[i][0]) + ',')\n",
        "            myfile3.writelines(str(student_list[i][1][0]))\n",
        "            myfile3.write('\\n')\n",
        "\n",
        "        myfile3.close()\n",
        "\n",
        "\n",
        "def read_students():\n",
        "        myfile3 = open('mytxt3.txt', 'r+')\n",
        "\n",
        "        with open('mytxt3.txt') as f:\n",
        "            content = f.readlines()\n",
        "\n",
        "        content = [x.strip() for x in content]\n",
        "        names = []\n",
        "        id = []\n",
        "\n",
        "        for i in range(len(student_list)):\n",
        "            tmplist = content[i].split(',')\n",
        "            names.append(tmplist[0])\n",
        "            id.append(tmplist[1])\n",
        "\n",
        "        random_numers = random.sample(range(10), 10)\n",
        "\n",
        "        for i in range(len(names)):\n",
        "            print(names[random_numers[i]] + ', ' + id[random_numers[i]])\n",
        "\n",
        "wr_students()\n",
        "read_students()"
      ],
      "execution_count": 1,
      "outputs": [
        {
          "output_type": "stream",
          "text": [
            "Fret, 3333\n",
            "Hess, 8888\n",
            "Fred, 5555\n",
            "Tent, 1111\n",
            "Toby, 0000\n",
            "Bent, 7777\n",
            "John, 4444\n",
            "Bret, 6666\n",
            "Brek, 2222\n",
            "Boby, 9999\n"
          ],
          "name": "stdout"
        }
      ]
    }
  ]
}