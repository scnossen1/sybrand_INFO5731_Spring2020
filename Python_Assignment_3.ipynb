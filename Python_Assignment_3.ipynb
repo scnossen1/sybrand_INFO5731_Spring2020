{
  "nbformat": 4,
  "nbformat_minor": 0,
  "metadata": {
    "colab": {
      "name": "Python_Assignment_3.ipynb",
      "provenance": [],
      "collapsed_sections": [],
      "authorship_tag": "ABX9TyNxlS5BguKKrjMVnNP0MmQ1",
      "include_colab_link": true
    },
    "kernelspec": {
      "name": "python3",
      "display_name": "Python 3"
    }
  },
  "cells": [
    {
      "cell_type": "markdown",
      "metadata": {
        "id": "view-in-github",
        "colab_type": "text"
      },
      "source": [
        "<a href=\"https://colab.research.google.com/github/scnossen1/sybrand_INFO5731_Spring2020/blob/master/Python_Assignment_3.ipynb\" target=\"_parent\"><img src=\"https://colab.research.google.com/assets/colab-badge.svg\" alt=\"Open In Colab\"/></a>"
      ]
    },
    {
      "cell_type": "code",
      "metadata": {
        "id": "G4oi9QdaVxyT",
        "colab_type": "code",
        "colab": {
          "base_uri": "https://localhost:8080/",
          "height": 342
        },
        "outputId": "33cca929-94c8-4b51-e3e8-ae235dc40e77"
      },
      "source": [
        "import turtle\n",
        "import time\n",
        "\n",
        "print('Assignment 1')\n",
        "print('\\n')\n",
        "\n",
        "days = ['Sunday', 'Monday', 'Tuesday', 'Wednesday', 'Thursday', 'Friday', 'Saturday']\n",
        "print(days[int(input('Please Give me a Day Number between 0 and 6: '))])\n",
        "\n",
        "print('\\n')\n",
        "print('Assignment 2')\n",
        "print('\\n')\n",
        "\n",
        "a = int(input('Give me \"a\" side of a right triangle: '))\n",
        "b = int(input('Give me \"b\" side of a right triangle: '))\n",
        "c = float(((a ** 2) + (b ** 2)) ** .5)\n",
        "print(c)\n",
        "\n",
        "print('\\n')\n",
        "print('Assignment 3')\n",
        "print('\\n')\n",
        "\n",
        "a = int(input('Give me \"a\" side of a triangle: '))\n",
        "b = int(input('Give me \"b\" side of a triangle: '))\n",
        "c = int(input('Give me \"c\" side of a triangle or the longest: '))\n",
        "\n",
        "if a ** 2 + b ** 2 == c ** 2:\n",
        "    print('True, this is a right triangle')\n",
        "else:\n",
        "    print('False, this is not a right triangle')\n",
        "\n",
        "print('\\n')\n",
        "print('Assignment 4')\n",
        "print('\\n')\n",
        "\n",
        "months = ['January', 'February', 'March', 'April', 'May', 'June', 'July', 'August', 'September', 'October', 'November',\n",
        "          'December']\n",
        "months_len = len(months)\n",
        "\n",
        "for i in range(months_len):\n",
        "    print('One of the months of the year is ' + months[i])\n",
        "\n",
        "print('\\n')\n",
        "print('Assignment 5')\n",
        "print('\\n')\n",
        "\n",
        "numbers = [12, 10, 32, 3, 66, 17, 42, 88, 20]\n",
        "total = 0\n",
        "\n",
        "for i in range(len(numbers)):\n",
        "    total += numbers[i]\n",
        "\n",
        "print(total)\n",
        "\n",
        "print('\\n')\n",
        "print('Assignment 6 & 7')\n",
        "print('\\n')\n",
        "\n",
        "window1 = turtle.Screen()\n",
        "window1.bgcolor('blue')\n",
        "window1.title('Assignment 3')\n",
        "\n",
        "bob = turtle.Turtle()\n",
        "bob.color('yellow')\n",
        "bob.pensize(5)\n",
        "\n",
        "for i in range(3):\n",
        "    bob.forward(80)\n",
        "    bob.left(120)\n",
        "\n",
        "time.sleep(2)\n",
        "\n",
        "for i in range(6):\n",
        "    bob.undo()\n",
        "\n",
        "angles = [160, -43, 270, -97, -43, 200, -940, 17, -86]\n",
        "\n",
        "for i in range(len(angles)):\n",
        "    bob.left(angles[i])\n",
        "    bob.forward(100)\n",
        "    time.sleep(.5)\n",
        "\n",
        "time.sleep(2)\n",
        "\n",
        "for i in range(len(angles * 2)):\n",
        "    bob.undo()\n",
        "\n",
        "\n",
        "print('\\n')\n",
        "print('Assignment 8')\n",
        "print('\\n')\n",
        "\n",
        "number = 1\n",
        "count = 0\n",
        "\n",
        "while number < 101:\n",
        "    if (number % 2) == 0:\n",
        "        count += 1\n",
        "\n",
        "    number += 1\n",
        "\n",
        "print('There are ' + str(count) + ' Even Numbers Between 1 and 100!' )"
      ],
      "execution_count": 2,
      "outputs": [
        {
          "output_type": "stream",
          "text": [
            "\n",
            "\n",
            "Assignment 8\n",
            "\n",
            "\n"
          ],
          "name": "stdout"
        },
        {
          "output_type": "error",
          "ename": "IndexError",
          "evalue": "ignored",
          "traceback": [
            "\u001b[0;31m---------------------------------------------------------------------------\u001b[0m",
            "\u001b[0;31mIndexError\u001b[0m                                Traceback (most recent call last)",
            "\u001b[0;32m<ipython-input-2-293059133d9d>\u001b[0m in \u001b[0;36m<module>\u001b[0;34m()\u001b[0m\n\u001b[1;32m     96\u001b[0m \u001b[0;34m\u001b[0m\u001b[0m\n\u001b[1;32m     97\u001b[0m \u001b[0;32mfor\u001b[0m \u001b[0mi\u001b[0m \u001b[0;32min\u001b[0m \u001b[0mrange\u001b[0m\u001b[0;34m(\u001b[0m\u001b[0;36m100\u001b[0m\u001b[0;34m)\u001b[0m\u001b[0;34m:\u001b[0m\u001b[0;34m\u001b[0m\u001b[0;34m\u001b[0m\u001b[0m\n\u001b[0;32m---> 98\u001b[0;31m   \u001b[0mone\u001b[0m\u001b[0;34m[\u001b[0m\u001b[0mi\u001b[0m\u001b[0;34m]\u001b[0m \u001b[0;34m=\u001b[0m \u001b[0mi\u001b[0m\u001b[0;34m+\u001b[0m\u001b[0;36m1\u001b[0m\u001b[0;34m\u001b[0m\u001b[0;34m\u001b[0m\u001b[0m\n\u001b[0m\u001b[1;32m     99\u001b[0m \u001b[0;34m\u001b[0m\u001b[0m\n\u001b[1;32m    100\u001b[0m \u001b[0mprint\u001b[0m\u001b[0;34m(\u001b[0m\u001b[0;34m'end'\u001b[0m\u001b[0;34m)\u001b[0m\u001b[0;34m\u001b[0m\u001b[0;34m\u001b[0m\u001b[0m\n",
            "\u001b[0;31mIndexError\u001b[0m: list assignment index out of range"
          ]
        }
      ]
    }
  ]
}