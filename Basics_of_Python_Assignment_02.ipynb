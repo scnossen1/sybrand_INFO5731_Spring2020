{
  "nbformat": 4,
  "nbformat_minor": 0,
  "metadata": {
    "colab": {
      "name": "Basics_of_Python_Assignment_02.ipynb",
      "provenance": [],
      "authorship_tag": "ABX9TyPaleB5jJPw5mR0RRvGfH28",
      "include_colab_link": true
    },
    "kernelspec": {
      "name": "python3",
      "display_name": "Python 3"
    }
  },
  "cells": [
    {
      "cell_type": "markdown",
      "metadata": {
        "id": "view-in-github",
        "colab_type": "text"
      },
      "source": [
        "<a href=\"https://colab.research.google.com/github/scnossen1/syrband_INFO5731_Spring2020/blob/master/Basics_of_Python_Assignment_02.ipynb\" target=\"_parent\"><img src=\"https://colab.research.google.com/assets/colab-badge.svg\" alt=\"Open In Colab\"/></a>"
      ]
    },
    {
      "cell_type": "code",
      "metadata": {
        "id": "pyMgAa_FnSiI",
        "colab_type": "code",
        "colab": {
          "base_uri": "https://localhost:8080/",
          "height": 241
        },
        "outputId": "5fbb59d1-6f4f-4d72-bcc5-b56a7dbd1618"
      },
      "source": [
        "print (\"####### Part 1 #######\\n\")\n",
        "\n",
        "#creating the variables for the sentence\n",
        "V1 = \"All \"   \n",
        "V2 = \"work \"\n",
        "V3 = \"and \"\n",
        "V4 = \"no \"\n",
        "V5 = \"play \"\n",
        "V6 = \"makes \"\n",
        "V7 = \"Jack \"\n",
        "V8 = \"a \"\n",
        "V9 = \"dull \"\n",
        "V10 = \"boy.\"\n",
        "\n",
        "#printing the varables\n",
        "print(V1+V2+V3+V4+V5+V6+V7+V8+V9+V10+\"\\n\"+\"\\n\")\n",
        "\n",
        "\n",
        "print ('####### Part 2 #######\\n')\n",
        "\n",
        "#printing the equation\n",
        "print ('The Equation Is \"3.14*(1+A/B)^3\"\\n')\n",
        "\n",
        "#asking for variables\n",
        "A = float(input('What is A: '))\n",
        "B = float(input('What is B: '))\n",
        "\n",
        "#solving the equiation\n",
        "S = float(3.14 * (1+A/B)**3)\n",
        "\n",
        "#printing the answer\n",
        "print ('The Answer is:',S)"
      ],
      "execution_count": 32,
      "outputs": [
        {
          "output_type": "stream",
          "text": [
            "####### Part 1 #######\n",
            "\n",
            "All work and no play makes Jack a dull boy.\n",
            "\n",
            "\n",
            "####### Part 2 #######\n",
            "\n",
            "The Equation Is \"3.14*(1+A/B)^3\"\n",
            "\n",
            "What is A: 12\n",
            "What is B: 12\n",
            "The Answer is: 25.12\n"
          ],
          "name": "stdout"
        }
      ]
    }
  ]
}