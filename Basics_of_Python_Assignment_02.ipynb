{
  "nbformat": 4,
  "nbformat_minor": 0,
  "metadata": {
    "colab": {
      "name": "Basics_of_Python_Assignment_02.ipynb",
      "provenance": [],
      "authorship_tag": "ABX9TyPSTmfb1gLo8G5lqfT41R62",
      "include_colab_link": true
    },
    "kernelspec": {
      "name": "python3",
      "display_name": "Python 3"
    }
  },
  "cells": [
    {
      "cell_type": "markdown",
      "metadata": {
        "id": "view-in-github",
        "colab_type": "text"
      },
      "source": [
        "<a href=\"https://colab.research.google.com/github/scnossen1/syrband_INFO5731_Spring2020/blob/master/Basics_of_Python_Assignment_02.ipynb\" target=\"_parent\"><img src=\"https://colab.research.google.com/assets/colab-badge.svg\" alt=\"Open In Colab\"/></a>"
      ]
    },
    {
      "cell_type": "code",
      "metadata": {
        "id": "pyMgAa_FnSiI",
        "colab_type": "code",
        "colab": {
          "base_uri": "https://localhost:8080/",
          "height": 92
        },
        "outputId": "6ad8c9b1-3846-485b-83d5-f72d2d0a66fc"
      },
      "source": [
        "V1 = \"All \"\n",
        "V2 = \"Work \"\n",
        "V3 = \"and \"\n",
        "V4 = \"no \"\n",
        "V5 = \"play \"\n",
        "V6 = \"makes \"\n",
        "V7 = \"Jack \"\n",
        "V8 = \"a \"\n",
        "V9 = \"dull \"\n",
        "V10 = \"boy.\"\n",
        "\n",
        "print(V1+V2+V3+V4+V5+V6+V7+V8+V9+V10)\n",
        "\n",
        "\n",
        "A = int(input(\"What is A:\"))\n",
        "B = int(input(\"What is B:\"))\n",
        "S = float(3.14 * (1+A/B)**3)\n",
        "\n",
        "print(S)"
      ],
      "execution_count": 11,
      "outputs": [
        {
          "output_type": "stream",
          "text": [
            "All Work and no play makes Jack a dull boy.\n",
            "What is A:12\n",
            "What is B:12\n",
            "25.12\n"
          ],
          "name": "stdout"
        }
      ]
    }
  ]
}