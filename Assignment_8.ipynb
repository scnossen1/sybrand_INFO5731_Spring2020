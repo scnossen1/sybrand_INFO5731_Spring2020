{
  "nbformat": 4,
  "nbformat_minor": 0,
  "metadata": {
    "colab": {
      "name": "Assignment_8.ipynb",
      "provenance": [],
      "collapsed_sections": [],
      "authorship_tag": "ABX9TyOgiMZx3sfOY06GYLZm2Ggq",
      "include_colab_link": true
    },
    "kernelspec": {
      "name": "python3",
      "display_name": "Python 3"
    }
  },
  "cells": [
    {
      "cell_type": "markdown",
      "metadata": {
        "id": "view-in-github",
        "colab_type": "text"
      },
      "source": [
        "<a href=\"https://colab.research.google.com/github/scnossen1/sybrand_INFO5731_Spring2020/blob/master/Assignment_8.ipynb\" target=\"_parent\"><img src=\"https://colab.research.google.com/assets/colab-badge.svg\" alt=\"Open In Colab\"/></a>"
      ]
    },
    {
      "cell_type": "code",
      "metadata": {
        "id": "-l9GkH58x3_Y",
        "colab_type": "code",
        "colab": {
          "base_uri": "https://localhost:8080/",
          "height": 129
        },
        "outputId": "33d4c801-0a54-4f7f-fffe-758d29f67437"
      },
      "source": [
        "import math\n",
        "\n",
        "\n",
        "class Point:\n",
        "\n",
        "    def __init__(self, x=0, y=0):\n",
        "        self.x = x\n",
        "        self.y = y\n",
        "\n",
        "    def __str__(self):\n",
        "        return str(str(self.x) + ',' + str(self.y))\n",
        "\n",
        "\n",
        "class Rectangle:\n",
        "\n",
        "    def __init__(self, position, w, h):\n",
        "        self.corner = position\n",
        "        self.width = w\n",
        "        self.height = h\n",
        "\n",
        "    def __str__(self):\n",
        "        return '({0},{1},{2})'.format(self.corner, self.width, self.height)\n",
        "\n",
        "    def area(self):\n",
        "        return self.width * self.height\n",
        "\n",
        "    def flip(self):\n",
        "        temp = self.width\n",
        "        self.width = self.height\n",
        "        self.height = temp\n",
        "\n",
        "    def is_inside(self, point):\n",
        "        if point.x >= self.corner.x and point.x < (self.corner.x + self.width) and point.y >= self.corner.y and point.y < (self.corner.y + self.height):\n",
        "            return True\n",
        "        else:\n",
        "            return False\n",
        "\n",
        "\n",
        "def distance(p1, p2):\n",
        "    deltaX = p2.x - p1.x\n",
        "    deltaY = p2.y - p1.y\n",
        "    return math.sqrt(deltaX ** 2 + deltaY ** 2)\n",
        "\n",
        "\n",
        "def reflect_x(p1):\n",
        "    new_y = 0\n",
        "    if p1.y != 0:\n",
        "        if p1.y > 0:\n",
        "            new_y = p1.y - abs((p1.y * 2))\n",
        "        else:\n",
        "            new_y = p1.y + abs((p1.y * 2))\n",
        "\n",
        "    p1.y = new_y\n",
        "    return p1\n",
        "\n",
        "\n",
        "p1 = Point()\n",
        "p1.x = 0\n",
        "p1.y = 0\n",
        "\n",
        "p2 = Point()\n",
        "p2.x = 10\n",
        "p2.y = 2\n",
        "\n",
        "shape = Rectangle(p1, 10, 5)\n",
        "print(shape.is_inside(p2))\n",
        "\n",
        "print(shape.area())\n",
        "\n",
        "print(distance(p1, p2))\n",
        "\n",
        "print(reflect_x(p2))\n",
        "\n",
        "print(shape)\n",
        "shape.flip()\n",
        "print(shape)\n",
        "\n",
        "\n"
      ],
      "execution_count": 1,
      "outputs": [
        {
          "output_type": "stream",
          "text": [
            "False\n",
            "50\n",
            "10.198039027185569\n",
            "10,-2\n",
            "(0,0,10,5)\n",
            "(0,0,5,10)\n"
          ],
          "name": "stdout"
        }
      ]
    }
  ]
}