{
  "nbformat": 4,
  "nbformat_minor": 0,
  "metadata": {
    "colab": {
      "name": "Assignment_11_2.ipynb",
      "provenance": [],
      "collapsed_sections": [],
      "authorship_tag": "ABX9TyMhSAAi2JsY9IDMPiOptSzX",
      "include_colab_link": true
    },
    "kernelspec": {
      "name": "python3",
      "display_name": "Python 3"
    }
  },
  "cells": [
    {
      "cell_type": "markdown",
      "metadata": {
        "id": "view-in-github",
        "colab_type": "text"
      },
      "source": [
        "<a href=\"https://colab.research.google.com/github/scnossen1/sybrand_INFO5731_Spring2020/blob/master/Assignment_11_2.ipynb\" target=\"_parent\"><img src=\"https://colab.research.google.com/assets/colab-badge.svg\" alt=\"Open In Colab\"/></a>"
      ]
    },
    {
      "cell_type": "code",
      "metadata": {
        "id": "ixs-nwuqOcP9",
        "colab_type": "code",
        "colab": {}
      },
      "source": [
        "import pymysql\n",
        "import matplotlib.pyplot\n",
        "import pandas\n",
        "\n",
        "\n",
        "def get_continent_life_expectancy():\n",
        "    countries = []\n",
        "    life_expectancy = []\n",
        "    continent = input('What Continet do you want to look for: ')\n",
        "    \n",
        "    db = pymysql.connect('localhost','root','1234','world')\n",
        "    dbcursor = db.cursor()\n",
        "\n",
        "    sql = \"select name, lifeexpectancy, continent from country where continent = %s limit 10\"\n",
        "\n",
        "    dbcursor.execute(sql, continent)\n",
        "    results = dbcursor.fetchall()\n",
        "\n",
        "    for i in range(len(results)):\n",
        "        countries.append(results[i][0])\n",
        "        life_expectancy.append((results[i][1]))\n",
        "\n",
        "    matplotlib.pyplot.bar(countries, life_expectancy, width = .5,alpha = .5)\n",
        "    matplotlib.pyplot.show()\n",
        "\n",
        "\n",
        "FILE_NAME = \"catering_sale_all.xls\"\n",
        "\n",
        "\n",
        "def get_selling_situation(file_name):\n",
        "    excel = pandas.read_excel(file_name)\n",
        "    food_name = input(\"What food do you want to look for: \")\n",
        "\n",
        "    food_name = excel[food_name]\n",
        "    time_of_sale = excel['sale date']\n",
        "\n",
        "    print(excel)\n",
        "\n",
        "    matplotlib.pyplot.plot(time_of_sale, food_name)\n",
        "    matplotlib.pyplot.show()"
      ],
      "execution_count": 0,
      "outputs": []
    }
  ]
}