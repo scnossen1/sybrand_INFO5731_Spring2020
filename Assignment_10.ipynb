{
  "nbformat": 4,
  "nbformat_minor": 0,
  "metadata": {
    "colab": {
      "name": "Assignment_10.ipynb",
      "provenance": [],
      "collapsed_sections": [],
      "authorship_tag": "ABX9TyNqsHX50Y+RRpsUPMy3BLKj",
      "include_colab_link": true
    },
    "kernelspec": {
      "name": "python3",
      "display_name": "Python 3"
    }
  },
  "cells": [
    {
      "cell_type": "markdown",
      "metadata": {
        "id": "view-in-github",
        "colab_type": "text"
      },
      "source": [
        "<a href=\"https://colab.research.google.com/github/scnossen1/sybrand_INFO5731_Spring2020/blob/master/Assignment_10.ipynb\" target=\"_parent\"><img src=\"https://colab.research.google.com/assets/colab-badge.svg\" alt=\"Open In Colab\"/></a>"
      ]
    },
    {
      "cell_type": "code",
      "metadata": {
        "id": "rYJBoBBgxVOM",
        "colab_type": "code",
        "colab": {}
      },
      "source": [
        "import pymysql\n",
        "\n",
        "con = pymysql.connect(\"localhost\", \"root\", \"1234\", \"world\")\n",
        "\n",
        "def get_table():\n",
        "    with con:\n",
        "        cur = con.cursor()\n",
        "        cur.execute(\"SELECT * FROM country\")\n",
        "\n",
        "        row = cur.fetchall()\n",
        "\n",
        "        print('---------------Countries ---------------')\n",
        "        for row in row:\n",
        "            print(\"{0}\".format(row[1]))\n",
        "\n",
        "\n",
        "def get_name(country_str):\n",
        "    with con:\n",
        "        cur = con.cursor()\n",
        "        cur.execute(\"SELECT * FROM country WHERE Name = %s\", (country_str,))\n",
        "        row = cur.fetchone()\n",
        "        print(\"----------YOUR RESULTS----------\")\n",
        "        print(\"{0}\".format(row[1]))\n",
        "\n",
        "        #SELECT * FROM clients WHERE CONCAT(field1, '', field2, '', fieldn) LIKE \"%Mary%\"\n",
        "\n",
        "get_table()\n",
        "get_name(\"Yemen\")"
      ],
      "execution_count": 0,
      "outputs": []
    }
  ]
}