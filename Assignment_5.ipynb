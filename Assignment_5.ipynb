{
  "nbformat": 4,
  "nbformat_minor": 0,
  "metadata": {
    "colab": {
      "name": "Assignment_5.ipynb",
      "provenance": [],
      "authorship_tag": "ABX9TyOoQ6OM5DiVWp3A/L62typl",
      "include_colab_link": true
    },
    "kernelspec": {
      "name": "python3",
      "display_name": "Python 3"
    }
  },
  "cells": [
    {
      "cell_type": "markdown",
      "metadata": {
        "id": "view-in-github",
        "colab_type": "text"
      },
      "source": [
        "<a href=\"https://colab.research.google.com/github/scnossen1/sybrand_INFO5731_Spring2020/blob/master/Assignment_5.ipynb\" target=\"_parent\"><img src=\"https://colab.research.google.com/assets/colab-badge.svg\" alt=\"Open In Colab\"/></a>"
      ]
    },
    {
      "cell_type": "code",
      "metadata": {
        "id": "wLIWzoJxgdwQ",
        "colab_type": "code",
        "colab": {
          "base_uri": "https://localhost:8080/",
          "height": 466
        },
        "outputId": "de331a8f-ffed-49cc-dc83-9ab0d24253ab"
      },
      "source": [
        "student_list = [\n",
        "    ('John', ['4444'], ['John Doe'], ['Math', 'English']),\n",
        "    ('Fred', ['5555'], ['Fred Kid'], ['Math', 'Geography']),\n",
        "    ('Bret', ['6666'], ['Bret Bag'], ['Science', \"Social Studies\"])\n",
        "            ]\n",
        "\n",
        "\n",
        "def search(students):\n",
        "    found = False\n",
        "    while not found:\n",
        "        name = input('Enter a Students Full Name: ')\n",
        "        for i in range(len(students)):\n",
        "            if name == students[i][2][0]:\n",
        "                found = True\n",
        "                print('His CLasses Are: ' + students[i][3][0] + ', ' + students[i][3][1])\n",
        "        if not found:\n",
        "            print('Student Not Found!')\n",
        "\n",
        "\n",
        "def matrix():\n",
        "    grid = []\n",
        "    n = int(input('How Long Should It Be: '))\n",
        "    m = int(input('How Wide Should It Be: '))\n",
        "    print('Fill the matrix by typing data then hitting return')\n",
        "\n",
        "    for i in range(n):\n",
        "        a = []\n",
        "        for ii in range(m):\n",
        "            a.append(int(input()))\n",
        "        grid.append(a)\n",
        "\n",
        "    check = int(input('What number do you want to look for: '))\n",
        "    check_bool = False\n",
        "\n",
        "    for i in range(n):\n",
        "        for ii in range(m):\n",
        "            if check == grid[i][ii]:\n",
        "                print('The data is located at: ' + str(i) + ', ' + str(ii))\n",
        "                check_bool = True\n",
        "\n",
        "    if not check_bool:\n",
        "        print('That value is not in the matrix!')\n",
        "\n",
        "\n",
        "def sentence_analyzer():\n",
        "    sentence = input('Please Give Me a Sentence: ')\n",
        "    new_sentence = sentence.split(' ')\n",
        "    print(new_sentence)\n",
        "\n",
        "    word_count = []\n",
        "\n",
        "    for i in new_sentence:\n",
        "        word_count.append(new_sentence.count(i))\n",
        "\n",
        "    print('______________________________________' + '\\n|' + '\\n|')\n",
        "\n",
        "    for i in range(len(word_count)):\n",
        "        print('|     ' + str(new_sentence[i]) + '     ' + str(word_count[i]))\n",
        "\n",
        "\n",
        "search(student_list)\n",
        "matrix()\n",
        "sentence_analyzer()\n"
      ],
      "execution_count": 2,
      "outputs": [
        {
          "output_type": "stream",
          "text": [
            "Enter a Students Full Name: John Doe\n",
            "His CLasses Are: Math, English\n",
            "How Long Should It Be: 2\n",
            "How Wide Should It Be: 3\n",
            "Fill the matrix by typing data then hitting return\n",
            "1\n",
            "2\n",
            "3\n",
            "4\n",
            "5\n",
            "6\n",
            "What number do you want to look for: 4\n",
            "The data is located at: 1, 0\n",
            "Please Give Me a Sentence: This is a very simple sentnence\n",
            "['This', 'is', 'a', 'very', 'simple', 'sentnence']\n",
            "______________________________________\n",
            "|\n",
            "|\n",
            "|     This     1\n",
            "|     is     1\n",
            "|     a     1\n",
            "|     very     1\n",
            "|     simple     1\n",
            "|     sentnence     1\n"
          ],
          "name": "stdout"
        }
      ]
    }
  ]
}